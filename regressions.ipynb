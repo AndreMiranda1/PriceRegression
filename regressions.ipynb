{
 "cells": [
  {
   "cell_type": "markdown",
   "metadata": {},
   "source": [
    "### Predict House Prices with KNN and Linear Regression\n",
    "\n",
    "On this notebook I apply a simple linear regression and an algorithm based on K-Nearest Neighbours to predict house prices.\n",
    "\n",
    "This script uses some important libraries for DS and ML, such as Pandas and SkLearn.\n",
    "\n",
    "The dataset from kaggle can be found here:\n",
    "https://www.kaggle.com/harlfoxem/housesalesprediction\n",
    "\n"
   ]
  },
  {
   "cell_type": "code",
   "execution_count": 1,
   "metadata": {},
   "outputs": [
    {
     "name": "stdout",
     "output_type": "stream",
     "text": [
      "Different zipcodes:  70\n",
      "Zipcode with less houses associated:  50 \n",
      "\n",
      "Error for linear regression:  182902.0 \n",
      "\n"
     ]
    },
    {
     "name": "stderr",
     "output_type": "stream",
     "text": [
      "/Users/andremiranda/anaconda3/lib/python3.6/site-packages/ipykernel_launcher.py:78: SettingWithCopyWarning: \n",
      "A value is trying to be set on a copy of a slice from a DataFrame.\n",
      "Try using .loc[row_indexer,col_indexer] = value instead\n",
      "\n",
      "See the caveats in the documentation: http://pandas.pydata.org/pandas-docs/stable/indexing.html#indexing-view-versus-copy\n"
     ]
    },
    {
     "name": "stdout",
     "output_type": "stream",
     "text": [
      "Error for knn regression:  198504.0 \n",
      "\n",
      "To compare some samples:\n",
      "          price  predicted_linear predicted_knn\n",
      "6442   499950.0          661216.0        563780\n",
      "3197   790000.0          794976.0        833380\n",
      "2160   487000.0          595296.0        610960\n",
      "13163  150000.0          221824.0        223500\n",
      "21270  469500.0          414560.0        443450\n"
     ]
    },
    {
     "name": "stderr",
     "output_type": "stream",
     "text": [
      "/Users/andremiranda/anaconda3/lib/python3.6/site-packages/ipykernel_launcher.py:91: SettingWithCopyWarning: \n",
      "A value is trying to be set on a copy of a slice from a DataFrame.\n",
      "Try using .loc[row_indexer,col_indexer] = value instead\n",
      "\n",
      "See the caveats in the documentation: http://pandas.pydata.org/pandas-docs/stable/indexing.html#indexing-view-versus-copy\n"
     ]
    }
   ],
   "source": [
    "\"\"\"\n",
    "Created on Thu Feb  1 16:50:34 2018\n",
    "\n",
    "@author: André Miranda\n",
    "\"\"\"\n",
    "\n",
    "import pandas as pd\n",
    "\n",
    "data = pd.read_csv('./kc_house_data.csv', encoding=\"ISO-8859-1\", sep=\",\")\n",
    "\n",
    "# Cleaning Data\n",
    "# Removed date because only two years are present\n",
    "data.drop(data.columns[:2], axis= 1, inplace = True)\n",
    "# Removed lat and long, we have geo info in the zip code\n",
    "data.drop(['lat','long'], axis = 1, inplace = True)\n",
    "# Removed yr_renovated, since 96% are 0 (non renovated)\n",
    "data.drop('yr_renovated', axis = 1, inplace = True)\n",
    "\n",
    "print('Different zipcodes: ',len(data['zipcode'].value_counts(sort= True)))\n",
    "print('Zipcode with less houses associated: ',min(data['zipcode'].value_counts(sort= True)),'\\n')\n",
    "# I'll keep zipcode and treat it as categorical, since there is not that much granularity, but I'll try both options\n",
    "\n",
    "# Encoding categorical feature\n",
    "data = pd.get_dummies(data, columns  = ['zipcode'])\n",
    "\n",
    "# Select numeric variables to normalize, just excluded waterfront because it is binary\n",
    "data_num = data[['bedrooms', 'bathrooms', 'sqft_living', 'sqft_lot', 'floors', 'view', 'condition', 'grade', 'sqft_above', 'sqft_basement', 'yr_built', 'sqft_living15', 'sqft_lot15']]\n",
    "data_num_cols = list(data_num.columns.values)\n",
    "\n",
    "from sklearn.preprocessing import MinMaxScaler\n",
    "\n",
    "scaler = MinMaxScaler()\n",
    "scaler.fit(data_num)\n",
    "MinMaxScaler()\n",
    "normalized = scaler.transform(data_num)\n",
    "data_num_norm = pd.DataFrame(normalized, columns = data_num_cols)\n",
    "\n",
    "# Merging the data together again, now normalized and with the categorical values handled.\n",
    "data[data_num_cols] = data_num_norm\n",
    "\n",
    "# Shuffle the dataset, to break any simetry\n",
    "data = data.sample(frac=1).reset_index(drop=True)\n",
    "\n",
    "# Get train and test sets\n",
    "from sklearn.model_selection import train_test_split\n",
    "\n",
    "data_train, data_test = train_test_split(data, test_size = 0.2)\n",
    "\n",
    "# Training Linear Model\n",
    "from sklearn import linear_model\n",
    "\n",
    "# Get column names \n",
    "data_colms = data_train.columns.values\n",
    "\n",
    "# Initialize linear model\n",
    "clf = linear_model.LinearRegression()\n",
    "clf.fit(data_train[data_colms[1:]], data_train['price'])\n",
    "\n",
    "from sklearn.metrics import mean_squared_error\n",
    "\n",
    "test_predictions_linear = clf.predict(data_test[data_colms[1:]])\n",
    "error_linear = mean_squared_error(data_test['price'], test_predictions_linear)\n",
    "error_linear = error_linear ** 0.5\n",
    "# Used SQRT of the mean squared error as performance metric\n",
    "print('Error for linear regression: ',round(error_linear),'\\n')\n",
    "\n",
    "# Training an algorithm based on K-NN\n",
    "from sklearn.neighbors import NearestNeighbors\n",
    "\n",
    "# Initialize KNN model\n",
    "neighbors = 5\n",
    "nbrs = NearestNeighbors(n_neighbors = neighbors).fit(data_train[data_colms[1:]])\n",
    "\n",
    "# Get indexes of the KNN present in the train data, for each element of the test data\n",
    "dist, idx = nbrs.kneighbors(data_test[data_colms[1:]])\n",
    "\n",
    "# Calculate predicted prices for the test data as the average price of the KNN in the train data\n",
    "data_test['predicted_knn'] = None\n",
    "for i in range(data_test.shape[0]):   \n",
    "    avg = 0\n",
    "    for index in idx[i]:\n",
    "        avg = avg + data_train['price'].iloc[index]\n",
    "    avg = avg / neighbors\n",
    "    data_test['predicted_knn'].set_value(i, avg, takeable = True)\n",
    "    \n",
    "error_knn = mean_squared_error(data_test['price'], data_test['predicted_knn'])\n",
    "error_knn = error_knn ** 0.5\n",
    "print('Error for knn regression: ',round(error_knn),'\\n') \n",
    "\n",
    "# To compare some samples\n",
    "data_test['predicted_linear'] = test_predictions_linear \n",
    "print('To compare some samples:')\n",
    "print(data_test[['price','predicted_linear','predicted_knn']].head())\n"
   ]
  },
  {
   "cell_type": "markdown",
   "metadata": {},
   "source": [
    "## Analysis:\n",
    "\n",
    "We can tune the number of neighbors and some calculation parameters to achieve better results.\n",
    "The error for the two methods are very similar, due to the random sets sometimes knn are better sometimes linear regression, although it is clear than the knn approach makes sense and produces good results."
   ]
  }
 ],
 "metadata": {
  "kernelspec": {
   "display_name": "Python 3",
   "language": "python",
   "name": "python3"
  },
  "language_info": {
   "codemirror_mode": {
    "name": "ipython",
    "version": 3
   },
   "file_extension": ".py",
   "mimetype": "text/x-python",
   "name": "python",
   "nbconvert_exporter": "python",
   "pygments_lexer": "ipython3",
   "version": "3.6.3"
  }
 },
 "nbformat": 4,
 "nbformat_minor": 2
}
